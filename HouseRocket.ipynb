{
 "cells": [
  {
   "cell_type": "markdown",
   "metadata": {},
   "source": [
    "## House Rocket Exercise"
   ]
  },
  {
   "cell_type": "markdown",
   "metadata": {},
   "source": [
    "Usando o caso fictício da HouseRocket para exercitar minhas habilidades em Ciência & Análise de Dados.\n",
    "\n",
    "Using the HouseRocket fictitious case to exercise my Data Science & Analysis skills."
   ]
  },
  {
   "cell_type": "markdown",
   "metadata": {},
   "source": [
    "🇧🇷🇵🇹\n",
    "Perguntas a serem respondidas:\n",
    "1) Quantas casas tem 1 quarto?\n",
    "2) Quantas casas de mais de um andar?\n",
    "3) Quantas casas estão em boas ou más condições?\n",
    "4) Quantos quartos, em média, as casas possuem?\n",
    "5) Qual o preço médio das casas?\n",
    "6) Qual o desvio padrão dos preços?\n",
    "7) Existem casas com preços outliers? (apresentar id e zipcode)\n",
    "8) Quais são os 1Q e 3Q dos preços?\n",
    "9) Quais as dez casas mais antigas a venda e seus respectivos anos de construção? (apresentar id e zipcode)\n",
    "10) Qual o valor médio das 10 casas mais novas à venda?\n",
    "11) Qual o valor médio das 10 casas mais antigas à venda?\n",
    "12) Qual as 10 casas com as melhores vistas? (apresentar id e zipcode)\n",
    "----------------------------------------------------"
   ]
  },
  {
   "cell_type": "markdown",
   "metadata": {},
   "source": [
    "🇬🇧🇺🇸\n",
    "Questions to be answered:\n",
    "1) How many houses has 1 bedroom?\n",
    "2) How many houses has more than one floor?\n",
    "3) How many houses are in good or bad condition?\n",
    "4) How many rooms, on average, do the houses have?\n",
    "5) What is the average price of houses?\n",
    "6) What is the standard deviation of prices?\n",
    "7) Are there houses with outliers prices? (show id and zipcode)\n",
    "8) What are the 1Q and 3Q prices?\n",
    "9) What are the ten oldest houses for sale and their respective years of construction? (show id and zipcode)\n",
    "10) What is the average value of the 10 newest houses for sale?\n",
    "11) What is the average value of the 10 oldest houses for sale?\n",
    "12) What are the 10 houses with the best views? (show and zipcode)\n",
    "----------------------------"
   ]
  },
  {
   "cell_type": "markdown",
   "metadata": {},
   "source": [
    "## 0. Importar pacotes"
   ]
  },
  {
   "cell_type": "code",
   "execution_count": 2,
   "metadata": {},
   "outputs": [],
   "source": [
    "import pandas as pd\n",
    "import seaborn as sns"
   ]
  },
  {
   "cell_type": "markdown",
   "metadata": {},
   "source": [
    "## 1. Dados"
   ]
  },
  {
   "cell_type": "code",
   "execution_count": 3,
   "metadata": {},
   "outputs": [
    {
     "name": "stdout",
     "output_type": "stream",
     "text": [
      "Index(['id', 'date', 'price', 'bedrooms', 'bathrooms', 'sqft_living',\n",
      "       'sqft_lot', 'floors', 'waterfront', 'view', 'condition', 'grade',\n",
      "       'sqft_above', 'sqft_basement', 'yr_built', 'yr_renovated', 'zipcode',\n",
      "       'lat', 'long', 'sqft_living15', 'sqft_lot15'],\n",
      "      dtype='object')\n"
     ]
    }
   ],
   "source": [
    "#importando o dataframe\n",
    "df = pd.read_csv('house_data.csv')\n",
    "\n",
    "print(df.columns)\n",
    "\n",
    "#descrição dos campos acima\n"
   ]
  },
  {
   "cell_type": "markdown",
   "metadata": {},
   "source": [
    "# Testes usando Seaborn"
   ]
  },
  {
   "cell_type": "code",
   "execution_count": null,
   "metadata": {},
   "outputs": [],
   "source": []
  }
 ],
 "metadata": {
  "kernelspec": {
   "display_name": "Python 3.10.7 64-bit",
   "language": "python",
   "name": "python3"
  },
  "language_info": {
   "codemirror_mode": {
    "name": "ipython",
    "version": 3
   },
   "file_extension": ".py",
   "mimetype": "text/x-python",
   "name": "python",
   "nbconvert_exporter": "python",
   "pygments_lexer": "ipython3",
   "version": "3.10.7"
  },
  "orig_nbformat": 4,
  "vscode": {
   "interpreter": {
    "hash": "e7370f93d1d0cde622a1f8e1c04877d8463912d04d973331ad4851f04de6915a"
   }
  }
 },
 "nbformat": 4,
 "nbformat_minor": 2
}
